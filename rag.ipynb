{
 "cells": [
  {
   "cell_type": "markdown",
   "metadata": {},
   "source": [
    "# Retrieval Augmented Generation (RAG) for Legal Questions\n",
    "##### TODO:\n",
    "- Try other LLMs\n",
    "- Plot the ratio of correct answers for each question with a rag model and with a standard LLM"
   ]
  },
  {
   "cell_type": "code",
   "execution_count": 95,
   "metadata": {},
   "outputs": [],
   "source": [
    "import requests\n",
    "import json\n",
    "import regex as re\n",
    "from IPython.display import display, Math\n",
    "from nltk.stem import WordNetLemmatizer\n",
    "from nltk import PorterStemmer\n",
    "from nltk.corpus import wordnet\n",
    "from openai import OpenAI\n",
    "from sklearn.metrics.pairwise import cosine_similarity"
   ]
  },
  {
   "cell_type": "markdown",
   "metadata": {},
   "source": [
    "# Stop Words"
   ]
  },
  {
   "cell_type": "code",
   "execution_count": 96,
   "metadata": {},
   "outputs": [],
   "source": [
    "stop_words = ['i', 'me', 'my', 'myself', 'we', 'our', 'ours', 'ourselves', \n",
    "\t\t\t  'you', 'you\\'re', 'you\\'ve', 'you\\'ll', 'you\\'d', 'your', 'yours', \n",
    "\t\t\t  'yourself', 'yourselves', 'he', 'him', 'his', 'himself', 'she', \n",
    "\t\t\t  'she\\'s', 'her', 'hers', 'herself', 'it', 'it\\'s', 'its', 'itself', \n",
    "\t\t\t  'they', 'them', 'their', 'theirs', 'themselves', 'what', 'which', \n",
    "\t\t\t  'who', 'whom', 'this', 'that', 'that\\'ll', 'these', 'those', 'am', \n",
    "\t\t\t  'is', 'are', 'was', 'were', 'be', 'been', 'being', 'have', 'has', \n",
    "\t\t\t  'had', 'having', 'do', 'does', 'did', 'doing', 'a', 'an', 'the', \n",
    "\t\t\t  'and', 'but', 'if', 'or', 'because', 'as', 'until', 'while', 'of', \n",
    "\t\t\t  'at', 'by', 'for', 'with', 'about', 'against', 'between', 'into', \n",
    "\t\t\t  'through', 'during', 'before', 'after', 'above', 'below', 'to', \n",
    "\t\t\t  'from', 'up', 'down', 'in', 'out', 'on', 'off', 'over', 'under', \n",
    "\t\t\t  'again', 'further', 'then', 'once', 'here', 'there', 'when', 'where', \n",
    "\t\t\t  'why', 'how', 'all', 'any', 'both', 'each', 'few', 'more', 'most', \n",
    "\t\t\t  'other', 'some', 'such', 'no', 'nor', 'only', 'own', 'same', \n",
    "\t\t\t  'so', 'than', 'too', 'very', 's', 't', 'can', 'will', 'just', 'don', \n",
    "\t\t\t  'should', 'should\\'ve', 'now', 'd', 'll', 'm', 'o', 're', \n",
    "\t\t\t  've', 'y', 'ain', 'aren', 'aren\\'t', 'couldn', 'couldn\\'t', 'didn', 'didn\\'t', \n",
    "\t\t\t  'doesn', 'doesn\\'t', 'hadn', 'hadn\\'t', 'hasn', 'hasn\\'t', 'haven', 'haven\\'t', \n",
    "\t\t\t  'isn', 'isn\\'t', 'ma', 'mightn', 'mightn\\'t', 'mustn', 'mustn\\'t', 'needn', \n",
    "\t\t\t  'needn\\'t', 'shan', 'shan\\'t', 'shouldn', 'shouldn\\'t', 'wasn', 'wasn\\'t', \n",
    "\t\t\t  'weren', 'weren\\'t', 'won', 'won\\'t', 'wouldn', 'wouldn\\'t', '....', '...', '..', 'i am'\n",
    "              , 'of', ]\n",
    "\n",
    "punctuation = [\",\", \"?\", \"!\", \".\", \";\", \":\", \"/\", \"(\", \")\", \"&\", \"_\", \"+\", \"=\", \"<\", \">\", \"\\n\"]"
   ]
  },
  {
   "cell_type": "markdown",
   "metadata": {},
   "source": [
    "# Corpus"
   ]
  },
  {
   "cell_type": "code",
   "execution_count": 97,
   "metadata": {},
   "outputs": [
    {
     "name": "stdout",
     "output_type": "stream",
     "text": [
      "['Any processing of personal data of should be lawful and fair.\\nIt should be transparent to natural persons that personal data concerning them are collected, used, consulted or otherwise processed \\nand to what extent the personal data are or will be processed. The principle of transparency requires that any information and \\ncommunication relating to the processing of those personal data be easily accessible and easy to understand, and that clear and \\nplain language be used. That principle concerns, in particular, information to the data subjects on the identity of the controller \\nand the purposes of the processing and further information to ensure fair and transparent processing in respect of the natural \\npersons concerned and their right to obtain confirmation and communication of personal data concerning them which are being processed. \\nNatural persons should be made aware of risks, rules, safeguards and rights in relation to the processing of personal data and how \\nto exercise their rights in relation to such processing. In particular, the specific purposes for which personal data are processed \\nshould be explicit and legitimate and determined at the time of the collection of the personal data. The personal data should be \\nadequate, relevant and limited to what is necessary for the purposes for which they are processed. This requires, in particular, \\nensuring that the period for which the personal data are stored is limited to a strict minimum. Personal data should be processed \\nonly if the purpose of the processing could not reasonably be fulfilled by other means. In order to ensure that the personal data \\nare not kept longer than necessary, time limits should be established by the controller for erasure or for a periodic review. \\nEvery reasonable step should be taken to ensure that personal data which are inaccurate are rectified or deleted. Personal data \\nshould be processed in a manner that ensures appropriate security and confidentiality of the personal data, including for preventing \\nunauthorised access to or use of personal data and the equipment used for the processing.', \"An operator is required to obtain verifiable parental consent before any collection, use, or disclosure of personal information \\nfrom children , including consent to any material change in the collection, use, or disclosure practices to which the parent has \\npreviously consented. An operator must give the parent the option to consent to the collection and use of the child's personal \\ninformation without consenting to disclosure of his or her personal information to third parties.\", 'dogs are banished from USA']\n"
     ]
    }
   ],
   "source": [
    "doc1 = open(\"corpus\\doc1.txt\", \"r\")\n",
    "doc2 = open(\"corpus\\doc2.txt\", \"r\")\n",
    "doc3 = open(\"corpus\\doc3.txt\", \"r\")\n",
    "\n",
    "corpus = [\n",
    "    doc1.read(),\n",
    "    doc2.read(),\n",
    "    doc3.read()\n",
    "]\n",
    "\n",
    "print(corpus)"
   ]
  },
  {
   "cell_type": "markdown",
   "metadata": {},
   "source": [
    "# NLP Pipeline"
   ]
  },
  {
   "cell_type": "code",
   "execution_count": 98,
   "metadata": {},
   "outputs": [],
   "source": [
    "def remove_punctuation(tweet):\n",
    "\treturn re.sub(r'[^\\w\\s]', \" \", tweet) \n",
    "\n",
    "def tokenize(text):\n",
    "\treturn text.strip().split(\" \")\n",
    "\n",
    "def lemming(tokens):\n",
    "    lemmatizer = WordNetLemmatizer()\n",
    "    return [lemmatizer.lemmatize(token) for token in tokens]\n",
    "\n",
    "def stemming(tokens):\n",
    "    p = PorterStemmer()\n",
    "    [p.stem(word) for word in tokens]\n",
    "    return tokens\n",
    "\n",
    "def remove_stopwords(words):\n",
    "    return [word.lower().replace('\\n', '') for word in words if word.lower().strip() and word.lower() not in stop_words]\n",
    "\n",
    "def nlp_pipeline(text):\n",
    "    return remove_stopwords(stemming(tokenize(remove_punctuation(text))))"
   ]
  },
  {
   "cell_type": "code",
   "execution_count": 99,
   "metadata": {},
   "outputs": [
    {
     "name": "stdout",
     "output_type": "stream",
     "text": [
      "['processing', 'personal', 'data', 'lawful', 'fair', 'it', 'transparent', 'natural', 'persons', 'personal', 'data', 'concerning', 'collected', 'used', 'consulted', 'otherwise', 'processed', 'and', 'extent', 'personal', 'data', 'processed', 'principle', 'transparency', 'requires', 'information', 'communication', 'relating', 'processing', 'personal', 'data', 'easily', 'accessible', 'easy', 'understand', 'clear', 'plain', 'language', 'used', 'principle', 'concerns', 'particular', 'information', 'data', 'subjects', 'identity', 'controller', 'and', 'purposes', 'processing', 'information', 'ensure', 'fair', 'transparent', 'processing', 'respect', 'natural', 'persons', 'concerned', 'right', 'obtain', 'confirmation', 'communication', 'personal', 'data', 'concerning', 'processed', 'natural', 'persons', 'made', 'aware', 'risks', 'rules', 'safeguards', 'rights', 'relation', 'processing', 'personal', 'data', 'to', 'exercise', 'rights', 'relation', 'processing', 'particular', 'specific', 'purposes', 'personal', 'data', 'processed', 'should', 'explicit', 'legitimate', 'determined', 'time', 'collection', 'personal', 'data', 'personal', 'data', 'adequate', 'relevant', 'limited', 'necessary', 'purposes', 'processed', 'requires', 'particular', 'ensuring', 'period', 'personal', 'data', 'stored', 'limited', 'strict', 'minimum', 'personal', 'data', 'processed', 'only', 'purpose', 'processing', 'could', 'not', 'reasonably', 'fulfilled', 'means', 'order', 'ensure', 'personal', 'data', 'are', 'not', 'kept', 'longer', 'necessary', 'time', 'limits', 'established', 'controller', 'erasure', 'periodic', 'review', 'every', 'reasonable', 'step', 'taken', 'ensure', 'personal', 'data', 'inaccurate', 'rectified', 'deleted', 'personal', 'data', 'should', 'processed', 'manner', 'ensures', 'appropriate', 'security', 'confidentiality', 'personal', 'data', 'including', 'preventing', 'unauthorised', 'access', 'use', 'personal', 'data', 'equipment', 'used', 'processing']\n",
      "['operator', 'required', 'obtain', 'verifiable', 'parental', 'consent', 'collection', 'use', 'disclosure', 'personal', 'information', 'from', 'children', 'including', 'consent', 'material', 'change', 'collection', 'use', 'disclosure', 'practices', 'parent', 'previously', 'consented', 'operator', 'must', 'give', 'parent', 'option', 'consent', 'collection', 'use', 'child', 'personal', 'information', 'without', 'consenting', 'disclosure', 'personal', 'information', 'third', 'parties']\n"
     ]
    }
   ],
   "source": [
    "doc1_pr = nlp_pipeline(corpus[0])\n",
    "doc2_pr = nlp_pipeline(corpus[1])\n",
    "\n",
    "print(doc1_pr)\n",
    "print(doc2_pr)"
   ]
  },
  {
   "cell_type": "markdown",
   "metadata": {},
   "source": [
    "# Bag of Words Approach "
   ]
  },
  {
   "cell_type": "markdown",
   "metadata": {},
   "source": [
    "## Jaccard Similarity"
   ]
  },
  {
   "cell_type": "code",
   "execution_count": 100,
   "metadata": {},
   "outputs": [
    {
     "data": {
      "text/latex": [
       "$\\displaystyle \\text{JS}(A, B) = \\frac{\\vert A \\cap B \\vert}{\\vert A \\cup B \\vert} = \\frac{\\vert A \\cap B \\vert}{\\vert A \\vert + \\vert B \\vert - \\vert A \\cap B \\vert}$"
      ],
      "text/plain": [
       "<IPython.core.display.Math object>"
      ]
     },
     "metadata": {},
     "output_type": "display_data"
    }
   ],
   "source": [
    "display(Math(r'\\text{JS}(A, B) = \\frac{\\vert A \\cap B \\vert}{\\vert A \\cup B \\vert} = \\frac{\\vert A \\cap B \\vert}{\\vert A \\vert + \\vert B \\vert - \\vert A \\cap B \\vert}'))"
   ]
  },
  {
   "cell_type": "code",
   "execution_count": 101,
   "metadata": {},
   "outputs": [],
   "source": [
    "def jaccard_similarity(query, document):\n",
    "    intersection = set(query).intersection(set(document))\n",
    "    union = set(query).union(set(document))\n",
    "    return len(intersection)/len(union)"
   ]
  },
  {
   "cell_type": "markdown",
   "metadata": {},
   "source": [
    "## Sørensen-Dice Similarity "
   ]
  },
  {
   "cell_type": "code",
   "execution_count": 102,
   "metadata": {},
   "outputs": [
    {
     "data": {
      "text/latex": [
       "$\\displaystyle \\text{SD}(A, B) = \\frac{2 \\times \\vert A \\cap B \\vert}{\\vert A \\vert + \\vert B \\vert}$"
      ],
      "text/plain": [
       "<IPython.core.display.Math object>"
      ]
     },
     "metadata": {},
     "output_type": "display_data"
    }
   ],
   "source": [
    "display(Math(r'\\text{SD}(A, B) = \\frac{2 \\times \\vert A \\cap B \\vert}{\\vert A \\vert + \\vert B \\vert}'))"
   ]
  },
  {
   "cell_type": "code",
   "execution_count": 103,
   "metadata": {},
   "outputs": [],
   "source": [
    "def sorensen_dice_similarity(query, document):\n",
    "    intersection = set(query).intersection(set(document))\n",
    "    return 2*len(intersection)/(len(query) + len(document))"
   ]
  },
  {
   "cell_type": "markdown",
   "metadata": {},
   "source": [
    "## Wu-Palmer Similarity"
   ]
  },
  {
   "cell_type": "code",
   "execution_count": 104,
   "metadata": {},
   "outputs": [
    {
     "data": {
      "text/latex": [
       "$\\displaystyle \\text{WP}(A, B) = \\frac{2 \\times \\text{depth}(\\text{lcs}(A, B))}{\\text{depth}(A) + \\text{depth}(B)}$"
      ],
      "text/plain": [
       "<IPython.core.display.Math object>"
      ]
     },
     "metadata": {},
     "output_type": "display_data"
    }
   ],
   "source": [
    "display(Math(r'\\text{WP}(A, B) = \\frac{2 \\times \\text{depth}(\\text{lcs}(A, B))}{\\text{depth}(A) + \\text{depth}(B)}'))"
   ]
  },
  {
   "cell_type": "code",
   "execution_count": 105,
   "metadata": {},
   "outputs": [
    {
     "data": {
      "text/plain": [
       "0.8571428571428571"
      ]
     },
     "execution_count": 105,
     "metadata": {},
     "output_type": "execute_result"
    }
   ],
   "source": [
    "def wu_palmer_similarity(word1, word2):\n",
    "    w1 = wordnet.synsets(word1)\n",
    "    w2 = wordnet.synsets(word2)\n",
    "    if len(w1) == 0 or len(w2) == 0:\n",
    "        return 0\n",
    "    return wordnet.wup_similarity(w1[0], w2[0])\n",
    "\n",
    "wu_palmer_similarity(\"dog\", \"cat\")"
   ]
  },
  {
   "cell_type": "markdown",
   "metadata": {},
   "source": [
    "# Word Embeddings Approach"
   ]
  },
  {
   "cell_type": "markdown",
   "metadata": {},
   "source": [
    "## Cosine Similarity\n",
    "Using Open-AI word embeddings to calculate the cosine similarity between two words"
   ]
  },
  {
   "cell_type": "code",
   "execution_count": 106,
   "metadata": {},
   "outputs": [
    {
     "data": {
      "text/latex": [
       "$\\displaystyle \\text{CS}(A, B) = \\cos(\\theta) = \\frac{A \\cdot B}{\\|A\\| \\times \\|B\\|}$"
      ],
      "text/plain": [
       "<IPython.core.display.Math object>"
      ]
     },
     "metadata": {},
     "output_type": "display_data"
    }
   ],
   "source": [
    "display(Math(r'\\text{CS}(A, B) = \\cos(\\theta) = \\frac{A \\cdot B}{\\|A\\| \\times \\|B\\|}'))"
   ]
  },
  {
   "cell_type": "code",
   "execution_count": 107,
   "metadata": {},
   "outputs": [],
   "source": [
    "def get_embedding(word, model=\"text-embedding-3-small\"):\n",
    "   client = OpenAI()\n",
    "   return [client.embeddings.create(input = [word], model=model).data[0].embedding]"
   ]
  },
  {
   "cell_type": "code",
   "execution_count": null,
   "metadata": {},
   "outputs": [
    {
     "name": "stdout",
     "output_type": "stream",
     "text": [
      "[[0.84316793]]\n"
     ]
    }
   ],
   "source": [
    "word1 = get_embedding(\"dog\")\n",
    "word2 = get_embedding(\"dogs\")\n",
    "print(cosine_similarity(word1, word2))"
   ]
  },
  {
   "cell_type": "markdown",
   "metadata": {},
   "source": [
    "# Getting Most Similarity Document"
   ]
  },
  {
   "cell_type": "code",
   "execution_count": null,
   "metadata": {},
   "outputs": [],
   "source": [
    "def get_most_likely_document_bag_of_words(query, corpus):\n",
    "    similarities = []\n",
    "    query = nlp_pipeline(query)\n",
    "    for doc in corpus:\n",
    "        document = nlp_pipeline(doc)\n",
    "        similarity = jaccard_similarity(query, document)\n",
    "        #similarity = sorensen_dice_similarity(query, doc)\n",
    "        print(similarity)\n",
    "        similarities.append(similarity)\n",
    "    return corpus[similarities.index(max(similarities))]"
   ]
  },
  {
   "cell_type": "code",
   "execution_count": 112,
   "metadata": {},
   "outputs": [],
   "source": [
    "def get_most_likely_document_word_embedding(query, corpus):\n",
    "    similarities = []\n",
    "    query = get_embedding(query)\n",
    "    for doc in corpus:\n",
    "        document = get_embedding(doc)\n",
    "        similarity = cosine_similarity(query, document)\n",
    "        print(similarity)\n",
    "        similarities.append(similarity)\n",
    "    return corpus[similarities.index(max(similarities))]"
   ]
  },
  {
   "cell_type": "code",
   "execution_count": 120,
   "metadata": {},
   "outputs": [
    {
     "name": "stdout",
     "output_type": "stream",
     "text": [
      "0.02912621359223301\n",
      "0.03125\n",
      "0.0\n"
     ]
    },
    {
     "data": {
      "text/plain": [
       "\"An operator is required to obtain verifiable parental consent before any collection, use, or disclosure of personal information \\nfrom children , including consent to any material change in the collection, use, or disclosure practices to which the parent has \\npreviously consented. An operator must give the parent the option to consent to the collection and use of the child's personal \\ninformation without consenting to disclosure of his or her personal information to third parties.\""
      ]
     },
     "execution_count": 120,
     "metadata": {},
     "output_type": "execute_result"
    }
   ],
   "source": [
    "get_most_likely_document_bag_of_words(\"Can I store personal data for a forbidden purposes?\", corpus)"
   ]
  },
  {
   "cell_type": "code",
   "execution_count": 124,
   "metadata": {},
   "outputs": [
    {
     "name": "stdout",
     "output_type": "stream",
     "text": [
      "[[0.47168479]]\n",
      "[[0.39319085]]\n",
      "[[0.22585583]]\n"
     ]
    },
    {
     "data": {
      "text/plain": [
       "'Any processing of personal data of should be lawful and fair.\\nIt should be transparent to natural persons that personal data concerning them are collected, used, consulted or otherwise processed \\nand to what extent the personal data are or will be processed. The principle of transparency requires that any information and \\ncommunication relating to the processing of those personal data be easily accessible and easy to understand, and that clear and \\nplain language be used. That principle concerns, in particular, information to the data subjects on the identity of the controller \\nand the purposes of the processing and further information to ensure fair and transparent processing in respect of the natural \\npersons concerned and their right to obtain confirmation and communication of personal data concerning them which are being processed. \\nNatural persons should be made aware of risks, rules, safeguards and rights in relation to the processing of personal data and how \\nto exercise their rights in relation to such processing. In particular, the specific purposes for which personal data are processed \\nshould be explicit and legitimate and determined at the time of the collection of the personal data. The personal data should be \\nadequate, relevant and limited to what is necessary for the purposes for which they are processed. This requires, in particular, \\nensuring that the period for which the personal data are stored is limited to a strict minimum. Personal data should be processed \\nonly if the purpose of the processing could not reasonably be fulfilled by other means. In order to ensure that the personal data \\nare not kept longer than necessary, time limits should be established by the controller for erasure or for a periodic review. \\nEvery reasonable step should be taken to ensure that personal data which are inaccurate are rectified or deleted. Personal data \\nshould be processed in a manner that ensures appropriate security and confidentiality of the personal data, including for preventing \\nunauthorised access to or use of personal data and the equipment used for the processing.'"
      ]
     },
     "execution_count": 124,
     "metadata": {},
     "output_type": "execute_result"
    }
   ],
   "source": [
    "get_most_likely_document_word_embedding(\"Can I store personal data for a forbidden purposes?\", corpus)"
   ]
  },
  {
   "cell_type": "markdown",
   "metadata": {},
   "source": [
    "# LLMs "
   ]
  },
  {
   "cell_type": "markdown",
   "metadata": {},
   "source": [
    "## LLAMA2"
   ]
  },
  {
   "cell_type": "code",
   "execution_count": null,
   "metadata": {},
   "outputs": [],
   "source": [
    "def get_llama_response(query, corpus):\n",
    "    doc = get_most_likely_document_bag_of_words(query, corpus) \n",
    "    \n",
    "    prompt = \"\"\"\n",
    "                You are a bot that answer simple legal questions. \n",
    "                This is the info you have to use to answer: {relevant_document}\n",
    "                The user input is: {user_input}\n",
    "                Compile an answer to the user based on the relevant document.\n",
    "                Answer in 15 words or less.\n",
    "             \"\"\"\n",
    "    \n",
    "    url = 'http://localhost:11434/api/generate'\n",
    "    \n",
    "    data = {\n",
    "        \"model\": \"llama2\",\n",
    "        \"prompt\": prompt.format(user_input=query, relevant_document=doc)\n",
    "    }\n",
    "    \n",
    "    headers = {'Content-Type': 'application/json'}\n",
    "    response = requests.post(url, data=json.dumps(data), headers=headers, stream=True)\n",
    "        \n",
    "    full_response = []\n",
    "    try:\n",
    "        for line in response.iter_lines():\n",
    "            if line:\n",
    "                decoded_line = json.loads(line.decode('utf-8')) \n",
    "                full_response.append(decoded_line['response'])\n",
    "    finally:\n",
    "        response.close()\n",
    "        \n",
    "    return ''.join(full_response)"
   ]
  },
  {
   "cell_type": "code",
   "execution_count": null,
   "metadata": {},
   "outputs": [
    {
     "name": "stdout",
     "output_type": "stream",
     "text": [
      "0.0\n",
      "0.08571428571428572\n",
      "0.0\n"
     ]
    },
    {
     "name": "stdout",
     "output_type": "stream",
     "text": [
      "No, you cannot record children and post the video on social media without proper legal consent. Parental consent is required before collecting, using, or disclosing personal information from children.\n"
     ]
    }
   ],
   "source": [
    "query = \"Can I record children and post the video on a social media if the parents give me the legal consent?\"\n",
    "answer = get_llama_response(query, corpus)\n",
    "print(answer)"
   ]
  },
  {
   "cell_type": "code",
   "execution_count": null,
   "metadata": {},
   "outputs": [
    {
     "name": "stdout",
     "output_type": "stream",
     "text": [
      "0.02912621359223301\n",
      "0.03125\n",
      "0.0\n"
     ]
    },
    {
     "data": {
      "text/plain": [
       "' No, you cannot store personal data for forbidden purposes without proper consent and transparency.'"
      ]
     },
     "execution_count": 71,
     "metadata": {},
     "output_type": "execute_result"
    }
   ],
   "source": [
    "get_llama_response(\"Can I store personal data for a forbidden purposes\", corpus)"
   ]
  },
  {
   "cell_type": "code",
   "execution_count": null,
   "metadata": {},
   "outputs": [
    {
     "name": "stdout",
     "output_type": "stream",
     "text": [
      "0.02912621359223301\n",
      "0.03125\n",
      "0.0\n"
     ]
    },
    {
     "data": {
      "text/plain": [
       "'Yes, you can store personal data for legitimate purposes with proper parental consent.'"
      ]
     },
     "execution_count": 72,
     "metadata": {},
     "output_type": "execute_result"
    }
   ],
   "source": [
    "get_llama_response(\"Can I store personal data for a lecit purposes\", corpus)"
   ]
  },
  {
   "cell_type": "markdown",
   "metadata": {},
   "source": [
    "## GPT-4-Turbo"
   ]
  },
  {
   "cell_type": "code",
   "execution_count": null,
   "metadata": {},
   "outputs": [],
   "source": [
    "def get_openai_response(query, corpus):\n",
    "    client = OpenAI()\n",
    "    doc = get_most_likely_document_bag_of_words(query, corpus)\n",
    "    context = doc + \"\\n\" + f\"User Query: {query}\"  \n",
    "    response = client.chat.completions.create(\n",
    "        model=\"gpt-4-turbo\",\n",
    "        response_format={\"type\": \"json_object\"},\n",
    "        messages=[\n",
    "            {\"role\": \"system\", \"content\": \"\"\" \n",
    "                                                You are a bot that answers simple legal questions. \n",
    "                                                Compile an answer based only on the context i gave you.\n",
    "                                                Don't say that information I'm giving are wrong cause it's a simulation.\n",
    "                                                Cite also the line number where you found the answer.\n",
    "                                                Answer in 30 words or less.\n",
    "                                                Your output should be a JSON.\"\"\"},\n",
    "            {\"role\": \"user\", \"content\": context} \n",
    "        ]\n",
    "    )\n",
    "    return response.choices[0].message.content"
   ]
  },
  {
   "cell_type": "code",
   "execution_count": null,
   "metadata": {},
   "outputs": [],
   "source": [
    "def get_openai_response_virgin(query):\n",
    "    client = OpenAI()\n",
    "\n",
    "    response = client.chat.completions.create(\n",
    "    model=\"gpt-4-turbo\",\n",
    "    response_format={ \"type\": \"json_object\" },\n",
    "    messages = [\n",
    "        {\"role\": \"system\", \"content\": \"\"\" \n",
    "                                            You are a bot that answer simple legal questions. \n",
    "                                            Compile an answer to the user based on the relevant document.\n",
    "                                            Answer in 30 words or less.\n",
    "                                            Your output should be a JSON.\"\"\"},\n",
    "        {\"role\": \"user\", \"content\": query}\n",
    "    ]\n",
    "    )\n",
    "    return response.choices[0].message.content"
   ]
  },
  {
   "cell_type": "code",
   "execution_count": null,
   "metadata": {},
   "outputs": [
    {
     "name": "stdout",
     "output_type": "stream",
     "text": [
      "0.0\n",
      "0.08571428571428572\n",
      "0.0\n"
     ]
    },
    {
     "data": {
      "text/plain": [
       "'{\\n    \"answer\": \"Yes, if you have verifiable parental consent specifically allowing the posting of the video. (Lines 2-5)\"\\n}'"
      ]
     },
     "execution_count": 75,
     "metadata": {},
     "output_type": "execute_result"
    }
   ],
   "source": [
    "get_openai_response(\"Can I record children and post the video on a social media if the parents give me the legal consent?\", corpus)"
   ]
  },
  {
   "cell_type": "code",
   "execution_count": null,
   "metadata": {},
   "outputs": [
    {
     "name": "stdout",
     "output_type": "stream",
     "text": [
      "0.019417475728155338\n",
      "0.0\n",
      "0.0\n"
     ]
    },
    {
     "data": {
      "text/plain": [
       "'{\\n  \"answer\": \"Yes, transparency in processing client\\'s personal data is required for lawfulness and fairness. Data subjects must be informed of data collection and use.\",\\n  \"line\": 1\\n}'"
      ]
     },
     "execution_count": 76,
     "metadata": {},
     "output_type": "execute_result"
    }
   ],
   "source": [
    "get_openai_response(\"Should I keep transparency in clients data?\", corpus)"
   ]
  },
  {
   "cell_type": "code",
   "execution_count": null,
   "metadata": {},
   "outputs": [
    {
     "name": "stdout",
     "output_type": "stream",
     "text": [
      "0.0\n",
      "0.0\n",
      "0.16666666666666666\n"
     ]
    },
    {
     "data": {
      "text/plain": [
       "'{\\n    \"answer\": \"No, it is not legal to buy dogs in Alabama as dogs are banished from the USA. (line 1)\"\\n}'"
      ]
     },
     "execution_count": 77,
     "metadata": {},
     "output_type": "execute_result"
    }
   ],
   "source": [
    "get_openai_response(\"Is it legal to buy dogs in alabama?\", corpus)"
   ]
  },
  {
   "cell_type": "code",
   "execution_count": null,
   "metadata": {},
   "outputs": [
    {
     "data": {
      "text/plain": [
       "'{\\n  \"answer\": \"Yes, you can legally record children and post the video on social media if you have consent from the parents.\"\\n}'"
      ]
     },
     "execution_count": 78,
     "metadata": {},
     "output_type": "execute_result"
    }
   ],
   "source": [
    "get_openai_response_virgin(\"Can I record children and post the video on a social media if the parents give me the legal consent?\")"
   ]
  }
 ],
 "metadata": {
  "kernelspec": {
   "display_name": ".venv",
   "language": "python",
   "name": "python3"
  },
  "language_info": {
   "codemirror_mode": {
    "name": "ipython",
    "version": 3
   },
   "file_extension": ".py",
   "mimetype": "text/x-python",
   "name": "python",
   "nbconvert_exporter": "python",
   "pygments_lexer": "ipython3",
   "version": "3.10.4"
  }
 },
 "nbformat": 4,
 "nbformat_minor": 2
}

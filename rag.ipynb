{
 "cells": [
  {
   "cell_type": "markdown",
   "metadata": {},
   "source": [
    "# Retrieval Augmented Generation (RAG) for Legal Questions\n",
    "##### TODO:\n",
    "- Preprocess corpus and queries:\n",
    "    - Tokenize\n",
    "    - Lowercase\n",
    "    - Remove punctuation\n",
    "    - Remove stopwords\n",
    "    - Stemming\n",
    "- Implement more similarity measures\n",
    "- Try other LLMs"
   ]
  },
  {
   "cell_type": "code",
   "execution_count": 48,
   "metadata": {},
   "outputs": [],
   "source": [
    "from IPython.display import display, Math, Latex\n",
    "import requests\n",
    "import json\n",
    "import spacy "
   ]
  },
  {
   "cell_type": "markdown",
   "metadata": {},
   "source": [
    "## NLP Pipeline"
   ]
  },
  {
   "cell_type": "code",
   "execution_count": null,
   "metadata": {},
   "outputs": [],
   "source": []
  },
  {
   "cell_type": "markdown",
   "metadata": {},
   "source": [
    "## Import Laws and Regulations "
   ]
  },
  {
   "cell_type": "code",
   "execution_count": 49,
   "metadata": {},
   "outputs": [
    {
     "name": "stdout",
     "output_type": "stream",
     "text": [
      "['\\t\\nAny processing of personal data should be lawful and fair. \\nIt should be transparent to natural persons that personal data concerning them are collected, used, consulted or otherwise processed \\nand to what extent the personal data are or will be processed. The principle of transparency requires that any information and \\ncommunication relating to the processing of those personal data be easily accessible and easy to understand, and that clear and \\nplain language be used. That principle concerns, in particular, information to the data subjects on the identity of the controller \\nand the purposes of the processing and further information to ensure fair and transparent processing in respect of the natural \\npersons concerned and their right to obtain confirmation and communication of personal data concerning them which are being processed. \\nNatural persons should be made aware of risks, rules, safeguards and rights in relation to the processing of personal data and how \\nto exercise their rights in relation to such processing. In particular, the specific purposes for which personal data are processed \\nshould be explicit and legitimate and determined at the time of the collection of the personal data. The personal data should be \\nadequate, relevant and limited to what is necessary for the purposes for which they are processed. This requires, in particular, \\nensuring that the period for which the personal data are stored is limited to a strict minimum. Personal data should be processed \\nonly if the purpose of the processing could not reasonably be fulfilled by other means. In order to ensure that the personal data \\nare not kept longer than necessary, time limits should be established by the controller for erasure or for a periodic review. \\nEvery reasonable step should be taken to ensure that personal data which are inaccurate are rectified or deleted. Personal data \\nshould be processed in a manner that ensures appropriate security and confidentiality of the personal data, including for preventing \\nunauthorised access to or use of personal data and the equipment used for the processing.', \"An operator is required to obtain verifiable parental consent before any collection, use, or disclosure of personal information \\nfrom children, including consent to any material change in the collection, use, or disclosure practices to which the parent has \\npreviously consented. An operator must give the parent the option to consent to the collection and use of the child's personal \\ninformation without consenting to disclosure of his or her personal information to third parties.\"]\n"
     ]
    }
   ],
   "source": [
    "doc1 = open(\"doc1.txt\", \"r\")\n",
    "doc2 = open(\"doc2.txt\", \"r\")\n",
    "\n",
    "corpus = [\n",
    "    doc1.read(),\n",
    "    doc2.read()\n",
    "]\n",
    "\n",
    "print(corpus)"
   ]
  },
  {
   "cell_type": "markdown",
   "metadata": {},
   "source": [
    "## Jaccard Similarity"
   ]
  },
  {
   "cell_type": "code",
   "execution_count": 50,
   "metadata": {},
   "outputs": [
    {
     "data": {
      "text/latex": [
       "$\\displaystyle \\text{JS}(A, B) = \\frac{\\vert A \\cap B \\vert}{\\vert A \\cup B \\vert} = \\frac{\\vert A \\cap B \\vert}{\\vert A \\vert + \\vert B \\vert - \\vert A \\cap B \\vert}$"
      ],
      "text/plain": [
       "<IPython.core.display.Math object>"
      ]
     },
     "metadata": {},
     "output_type": "display_data"
    }
   ],
   "source": [
    "display(Math(r'\\text{JS}(A, B) = \\frac{\\vert A \\cap B \\vert}{\\vert A \\cup B \\vert} = \\frac{\\vert A \\cap B \\vert}{\\vert A \\vert + \\vert B \\vert - \\vert A \\cap B \\vert}'))"
   ]
  },
  {
   "cell_type": "code",
   "execution_count": 51,
   "metadata": {},
   "outputs": [],
   "source": [
    "def jaccard_similarity(query, document):\n",
    "    query = query.lower().split(\" \")\n",
    "    document = document.lower().split(\" \")\n",
    "    intersection = set(query).intersection(set(document))\n",
    "    union = set(query).union(set(document))\n",
    "    return len(intersection)/len(union)"
   ]
  },
  {
   "cell_type": "markdown",
   "metadata": {},
   "source": [
    "## Sørensen-Dice Similarity "
   ]
  },
  {
   "cell_type": "code",
   "execution_count": 52,
   "metadata": {},
   "outputs": [
    {
     "data": {
      "text/latex": [
       "$\\displaystyle \\text{SD}(A, B) = \\frac{2 \\times \\vert A \\cap B \\vert}{\\vert A \\vert + \\vert B \\vert}$"
      ],
      "text/plain": [
       "<IPython.core.display.Math object>"
      ]
     },
     "metadata": {},
     "output_type": "display_data"
    }
   ],
   "source": [
    "display(Math(r'\\text{SD}(A, B) = \\frac{2 \\times \\vert A \\cap B \\vert}{\\vert A \\vert + \\vert B \\vert}'))"
   ]
  },
  {
   "cell_type": "code",
   "execution_count": 53,
   "metadata": {},
   "outputs": [],
   "source": [
    "def sorense_dice_similarity(query, document):\n",
    "    query = query.lower().split(\" \")\n",
    "    document = document.lower().split(\" \")\n",
    "    intersection = set(query).intersection(set(document))\n",
    "    return 2*len(intersection)/(len(query) + len(document))"
   ]
  },
  {
   "cell_type": "markdown",
   "metadata": {},
   "source": [
    "##### Testing Similarity Measures"
   ]
  },
  {
   "cell_type": "code",
   "execution_count": 54,
   "metadata": {},
   "outputs": [],
   "source": [
    "def get_most_likely_document(query, corpus):\n",
    "    similarities = []\n",
    "    for doc in corpus:\n",
    "        similarity = jaccard_similarity(query, doc)\n",
    "        #similarity = sorense_dice_similarity(query, doc)\n",
    "        print(similarity)\n",
    "        similarities.append(similarity)\n",
    "    return corpus[similarities.index(max(similarities))]"
   ]
  },
  {
   "cell_type": "code",
   "execution_count": 55,
   "metadata": {},
   "outputs": [
    {
     "name": "stdout",
     "output_type": "stream",
     "text": [
      "0.025974025974025976\n",
      "0.03636363636363636\n"
     ]
    },
    {
     "data": {
      "text/plain": [
       "\"An operator is required to obtain verifiable parental consent before any collection, use, or disclosure of personal information \\nfrom children, including consent to any material change in the collection, use, or disclosure practices to which the parent has \\npreviously consented. An operator must give the parent the option to consent to the collection and use of the child's personal \\ninformation without consenting to disclosure of his or her personal information to third parties.\""
      ]
     },
     "execution_count": 55,
     "metadata": {},
     "output_type": "execute_result"
    }
   ],
   "source": [
    "get_most_likely_document(\"Can i record my children and post the video on a social?\", corpus)"
   ]
  },
  {
   "cell_type": "code",
   "execution_count": 56,
   "metadata": {},
   "outputs": [
    {
     "name": "stdout",
     "output_type": "stream",
     "text": [
      "0.026490066225165563\n",
      "0.018867924528301886\n"
     ]
    },
    {
     "data": {
      "text/plain": [
       "'\\t\\nAny processing of personal data should be lawful and fair. \\nIt should be transparent to natural persons that personal data concerning them are collected, used, consulted or otherwise processed \\nand to what extent the personal data are or will be processed. The principle of transparency requires that any information and \\ncommunication relating to the processing of those personal data be easily accessible and easy to understand, and that clear and \\nplain language be used. That principle concerns, in particular, information to the data subjects on the identity of the controller \\nand the purposes of the processing and further information to ensure fair and transparent processing in respect of the natural \\npersons concerned and their right to obtain confirmation and communication of personal data concerning them which are being processed. \\nNatural persons should be made aware of risks, rules, safeguards and rights in relation to the processing of personal data and how \\nto exercise their rights in relation to such processing. In particular, the specific purposes for which personal data are processed \\nshould be explicit and legitimate and determined at the time of the collection of the personal data. The personal data should be \\nadequate, relevant and limited to what is necessary for the purposes for which they are processed. This requires, in particular, \\nensuring that the period for which the personal data are stored is limited to a strict minimum. Personal data should be processed \\nonly if the purpose of the processing could not reasonably be fulfilled by other means. In order to ensure that the personal data \\nare not kept longer than necessary, time limits should be established by the controller for erasure or for a periodic review. \\nEvery reasonable step should be taken to ensure that personal data which are inaccurate are rectified or deleted. Personal data \\nshould be processed in a manner that ensures appropriate security and confidentiality of the personal data, including for preventing \\nunauthorised access to or use of personal data and the equipment used for the processing.'"
      ]
     },
     "execution_count": 56,
     "metadata": {},
     "output_type": "execute_result"
    }
   ],
   "source": [
    "get_most_likely_document(\"Can I store personal data for a forbidden purposes?\", corpus)"
   ]
  },
  {
   "cell_type": "markdown",
   "metadata": {},
   "source": [
    "## Adding LLM (LLAMA2)"
   ]
  },
  {
   "cell_type": "code",
   "execution_count": 57,
   "metadata": {},
   "outputs": [],
   "source": [
    "def get_llama_response(query, corpus):\n",
    "    doc = get_most_likely_document(query, corpus) # compute similarity to detect the most usefull document\n",
    "    \n",
    "    prompt = \"\"\"\n",
    "                You are a bot that answer simple legal questions. \n",
    "                You answer in very short sentence and do not include extra information.\n",
    "                This is the info you have to use to answer: {relevant_document}\n",
    "                The user input is: {user_input}\n",
    "                Compile an answer to the user based on the info and the user input.\n",
    "                Don't add more info other than the answer.\n",
    "             \"\"\"\n",
    "    \n",
    "    url = 'http://localhost:11434/api/generate'\n",
    "    \n",
    "    data = {\n",
    "        \"model\": \"llama2\",\n",
    "        \"prompt\": prompt.format(user_input=query, relevant_document=doc)\n",
    "    }\n",
    "    \n",
    "    headers = {'Content-Type': 'application/json'}\n",
    "    response = requests.post(url, data=json.dumps(data), headers=headers, stream=True)\n",
    "        \n",
    "    full_response = []\n",
    "    try:\n",
    "        for line in response.iter_lines():\n",
    "            if line:\n",
    "                decoded_line = json.loads(line.decode('utf-8')) \n",
    "                full_response.append(decoded_line['response'])\n",
    "    finally:\n",
    "        response.close()\n",
    "        \n",
    "    return ''.join(full_response)"
   ]
  },
  {
   "cell_type": "code",
   "execution_count": 58,
   "metadata": {},
   "outputs": [
    {
     "name": "stdout",
     "output_type": "stream",
     "text": [
      "0.025974025974025976\n",
      "0.03636363636363636\n"
     ]
    },
    {
     "data": {
      "text/plain": [
       "'No, you cannot record your children and post the video on a social media platform without obtaining verifiable parental consent first. The operator is required to obtain consent from the parent before collecting, using, or disclosing personal information from children, including for the purpose of posting videos online.'"
      ]
     },
     "execution_count": 58,
     "metadata": {},
     "output_type": "execute_result"
    }
   ],
   "source": [
    "get_llama_response(\"Can I record children and post the video on a social?\", corpus)"
   ]
  },
  {
   "cell_type": "code",
   "execution_count": 59,
   "metadata": {},
   "outputs": [
    {
     "name": "stdout",
     "output_type": "stream",
     "text": [
      "0.03333333333333333\n",
      "0.018867924528301886\n"
     ]
    },
    {
     "data": {
      "text/plain": [
       "'No, you cannot store personal data for forbidden purposes. The processing of personal data should be lawful and fair, and should be transparent to natural persons. The principle of transparency requires that any information and communication relating to the processing of personal data be easily accessible and easy to understand, and that clear and plain language be used. Additionally, personal data should be processed only if the purpose of the processing could not reasonably be fulfilled by other means, and time limits should be established by the controller for erasure or for a periodic review. Every reasonable step should be taken to ensure that personal data which are inaccurate are rectified or deleted.'"
      ]
     },
     "execution_count": 59,
     "metadata": {},
     "output_type": "execute_result"
    }
   ],
   "source": [
    "get_llama_response(\"Can I store personal data for a forbidden purposes\", corpus)"
   ]
  },
  {
   "cell_type": "code",
   "execution_count": 60,
   "metadata": {},
   "outputs": [
    {
     "name": "stdout",
     "output_type": "stream",
     "text": [
      "0.03333333333333333\n",
      "0.018867924528301886\n"
     ]
    },
    {
     "data": {
      "text/plain": [
       "'Yes, you can store personal data for legitimate purposes.'"
      ]
     },
     "execution_count": 60,
     "metadata": {},
     "output_type": "execute_result"
    }
   ],
   "source": [
    "get_llama_response(\"Can I store personal data for a lecit purposes\", corpus)"
   ]
  }
 ],
 "metadata": {
  "kernelspec": {
   "display_name": ".venv",
   "language": "python",
   "name": "python3"
  },
  "language_info": {
   "codemirror_mode": {
    "name": "ipython",
    "version": 3
   },
   "file_extension": ".py",
   "mimetype": "text/x-python",
   "name": "python",
   "nbconvert_exporter": "python",
   "pygments_lexer": "ipython3",
   "version": "3.10.4"
  }
 },
 "nbformat": 4,
 "nbformat_minor": 2
}

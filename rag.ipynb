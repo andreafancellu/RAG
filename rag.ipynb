{
 "cells": [
  {
   "cell_type": "markdown",
   "metadata": {},
   "source": [
    "# Retrieval Augmented Generation (RAG)\n",
    "##### TODO:\n",
    "- Preprocess corpus and queries:\n",
    "    - Tokenize\n",
    "    - Lowercase\n",
    "    - Remove punctuation\n",
    "    - Remove stopwords\n",
    "    - Stemming\n",
    "- Implement more similarity measures\n",
    "- Try other LLMs"
   ]
  },
  {
   "cell_type": "code",
   "execution_count": 42,
   "metadata": {},
   "outputs": [],
   "source": [
    "from IPython.display import display, Math, Latex\n",
    "import requests\n",
    "import json"
   ]
  },
  {
   "cell_type": "code",
   "execution_count": 43,
   "metadata": {},
   "outputs": [],
   "source": [
    "corpus = [\n",
    "    \"It's illegal to cut a tree in your backyard.\",\n",
    "    \"It's legal to cut a tree in your backyard only if it's dead.\",\n",
    "]"
   ]
  },
  {
   "cell_type": "markdown",
   "metadata": {},
   "source": [
    "## Jaccard Similarity"
   ]
  },
  {
   "cell_type": "code",
   "execution_count": 44,
   "metadata": {},
   "outputs": [
    {
     "data": {
      "text/latex": [
       "$\\displaystyle \\text{JS}(A, B) = \\frac{\\vert A \\cap B \\vert}{\\vert A \\cup B \\vert} = \\frac{\\vert A \\cap B \\vert}{\\vert A \\vert + \\vert B \\vert - \\vert A \\cap B \\vert}$"
      ],
      "text/plain": [
       "<IPython.core.display.Math object>"
      ]
     },
     "metadata": {},
     "output_type": "display_data"
    }
   ],
   "source": [
    "display(Math(r'\\text{JS}(A, B) = \\frac{\\vert A \\cap B \\vert}{\\vert A \\cup B \\vert} = \\frac{\\vert A \\cap B \\vert}{\\vert A \\vert + \\vert B \\vert - \\vert A \\cap B \\vert}'))"
   ]
  },
  {
   "cell_type": "code",
   "execution_count": 45,
   "metadata": {},
   "outputs": [],
   "source": [
    "def jaccard_similarity(query, document):\n",
    "    query = query.lower().split(\" \")\n",
    "    document = document.lower().split(\" \")\n",
    "    intersection = set(query).intersection(set(document))\n",
    "    union = set(query).union(set(document))\n",
    "    return len(intersection)/len(union)"
   ]
  },
  {
   "cell_type": "markdown",
   "metadata": {},
   "source": [
    "## Sorensen-Dice Similarity "
   ]
  },
  {
   "cell_type": "code",
   "execution_count": 46,
   "metadata": {},
   "outputs": [
    {
     "data": {
      "text/latex": [
       "$\\displaystyle \\text{Sørensen-Dice}(A, B) = \\frac{2 \\times \\vert A \\cap B \\vert}{\\vert A \\vert + \\vert B \\vert}$"
      ],
      "text/plain": [
       "<IPython.core.display.Math object>"
      ]
     },
     "metadata": {},
     "output_type": "display_data"
    }
   ],
   "source": [
    "display(Math(r'\\text{Sørensen-Dice}(A, B) = \\frac{2 \\times \\vert A \\cap B \\vert}{\\vert A \\vert + \\vert B \\vert}'))"
   ]
  },
  {
   "cell_type": "code",
   "execution_count": 47,
   "metadata": {},
   "outputs": [],
   "source": [
    "def sorense_dice_similarity(query, document):\n",
    "    query = query.lower().split(\" \")\n",
    "    document = document.lower().split(\" \")\n",
    "    intersection = set(query).intersection(set(document))\n",
    "    return 2*len(intersection)/(len(query) + len(document))"
   ]
  },
  {
   "cell_type": "markdown",
   "metadata": {},
   "source": [
    "##### Testing Similarity Measures"
   ]
  },
  {
   "cell_type": "code",
   "execution_count": 48,
   "metadata": {},
   "outputs": [],
   "source": [
    "def get_most_likely_document(query, corpus):\n",
    "    similarities = []\n",
    "    for doc in corpus:\n",
    "        similarity = jaccard_similarity(query, doc)\n",
    "        #similarity = sorense_dice_similarity(query, doc)\n",
    "        print(similarity)\n",
    "        similarities.append(similarity)\n",
    "    return corpus[similarities.index(max(similarities))]"
   ]
  },
  {
   "cell_type": "code",
   "execution_count": 49,
   "metadata": {},
   "outputs": [
    {
     "name": "stdout",
     "output_type": "stream",
     "text": [
      "0.3076923076923077\n",
      "0.25\n"
     ]
    },
    {
     "data": {
      "text/plain": [
       "\"It's illegal to cut a tree in your backyard.\""
      ]
     },
     "execution_count": 49,
     "metadata": {},
     "output_type": "execute_result"
    }
   ],
   "source": [
    "get_most_likely_document(\"Can i cut a tree in my backyard?\", corpus)"
   ]
  },
  {
   "cell_type": "code",
   "execution_count": 50,
   "metadata": {},
   "outputs": [
    {
     "name": "stdout",
     "output_type": "stream",
     "text": [
      "0.2777777777777778\n",
      "0.23809523809523808\n"
     ]
    },
    {
     "data": {
      "text/plain": [
       "\"It's illegal to cut a tree in your backyard.\""
      ]
     },
     "execution_count": 50,
     "metadata": {},
     "output_type": "execute_result"
    }
   ],
   "source": [
    "get_most_likely_document(\"I found a dead tree in my garden, is it legale to cut it?\", corpus)"
   ]
  },
  {
   "cell_type": "markdown",
   "metadata": {},
   "source": [
    "## Adding LLM (LLAMA2) to augment the generated sentences"
   ]
  },
  {
   "cell_type": "code",
   "execution_count": 51,
   "metadata": {},
   "outputs": [],
   "source": [
    "def get_llama_response(query, corpus):\n",
    "    doc = get_most_likely_document(query, corpus) # compute similarity to detect the most usefull document\n",
    "    \n",
    "    prompt = \"\"\"\n",
    "                You are a bot that answer simple legal questions. \n",
    "                You answer in very short sentence and do not include extra information.\n",
    "                This is the info you have to use to answer: {relevant_document}\n",
    "                The user input is: {user_input}\n",
    "                Compile an answer to the user based on the info and the user input.\n",
    "             \"\"\"\n",
    "    \n",
    "    url = 'http://localhost:11434/api/generate'\n",
    "    \n",
    "    data = {\n",
    "        \"model\": \"llama2\",\n",
    "        \"prompt\": prompt.format(user_input=query, relevant_document=doc)\n",
    "    }\n",
    "    \n",
    "    headers = {'Content-Type': 'application/json'}\n",
    "    response = requests.post(url, data=json.dumps(data), headers=headers, stream=True)\n",
    "        \n",
    "    full_response = []\n",
    "    try:\n",
    "        for line in response.iter_lines():\n",
    "            if line:\n",
    "                decoded_line = json.loads(line.decode('utf-8')) \n",
    "                full_response.append(decoded_line['response'])\n",
    "    finally:\n",
    "        response.close()\n",
    "        \n",
    "    return ''.join(full_response)"
   ]
  },
  {
   "cell_type": "code",
   "execution_count": 52,
   "metadata": {},
   "outputs": [
    {
     "name": "stdout",
     "output_type": "stream",
     "text": [
      "0.3076923076923077\n",
      "0.25\n"
     ]
    },
    {
     "data": {
      "text/plain": [
       "' No, you cannot cut a tree in your backyard as it is illegal.'"
      ]
     },
     "execution_count": 52,
     "metadata": {},
     "output_type": "execute_result"
    }
   ],
   "source": [
    "get_llama_response(\"Can i cut a tree in my backyard?\", corpus)"
   ]
  },
  {
   "cell_type": "code",
   "execution_count": 53,
   "metadata": {},
   "outputs": [
    {
     "name": "stdout",
     "output_type": "stream",
     "text": [
      "0.25\n",
      "0.21052631578947367\n"
     ]
    },
    {
     "data": {
      "text/plain": [
       "' No, you cannot cut the dead tree in your garden. It is illegal to cut a tree in your backyard.'"
      ]
     },
     "execution_count": 53,
     "metadata": {},
     "output_type": "execute_result"
    }
   ],
   "source": [
    "get_llama_response(\"I found a dead tree in my garden, can i cut it?\", corpus)"
   ]
  }
 ],
 "metadata": {
  "kernelspec": {
   "display_name": ".venv",
   "language": "python",
   "name": "python3"
  },
  "language_info": {
   "codemirror_mode": {
    "name": "ipython",
    "version": 3
   },
   "file_extension": ".py",
   "mimetype": "text/x-python",
   "name": "python",
   "nbconvert_exporter": "python",
   "pygments_lexer": "ipython3",
   "version": "3.10.4"
  }
 },
 "nbformat": 4,
 "nbformat_minor": 2
}

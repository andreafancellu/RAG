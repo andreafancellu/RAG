{
 "cells": [
  {
   "cell_type": "markdown",
   "metadata": {},
   "source": [
    "# Retrieval Augmented Generation (RAG) for Legal Questions\n",
    "##### TODO:\n",
    "- Try other LLMs\n",
    "- Fine Tuning Model\n",
    "- Plot the ratio of correct answers for each question with a rag model and with a standard LLM\n",
    "- Multilingual support"
   ]
  },
  {
   "cell_type": "code",
   "execution_count": 50,
   "metadata": {},
   "outputs": [],
   "source": [
    "import requests\n",
    "import json\n",
    "import regex as re\n",
    "from IPython.display import display, Math\n",
    "from nltk.stem import WordNetLemmatizer\n",
    "from nltk import PorterStemmer\n",
    "from nltk.corpus import wordnet\n",
    "from openai import OpenAI\n",
    "from sklearn.metrics.pairwise import cosine_similarity"
   ]
  },
  {
   "cell_type": "markdown",
   "metadata": {},
   "source": [
    "# Stop Words"
   ]
  },
  {
   "cell_type": "code",
   "execution_count": 51,
   "metadata": {},
   "outputs": [],
   "source": [
    "stop_words = ['i', 'me', 'my', 'myself', 'we', 'our', 'ours', 'ourselves', \n",
    "\t\t\t  'you', 'you\\'re', 'you\\'ve', 'you\\'ll', 'you\\'d', 'your', 'yours', \n",
    "\t\t\t  'yourself', 'yourselves', 'he', 'him', 'his', 'himself', 'she', \n",
    "\t\t\t  'she\\'s', 'her', 'hers', 'herself', 'it', 'it\\'s', 'its', 'itself', \n",
    "\t\t\t  'they', 'them', 'their', 'theirs', 'themselves', 'what', 'which', \n",
    "\t\t\t  'who', 'whom', 'this', 'that', 'that\\'ll', 'these', 'those', 'am', \n",
    "\t\t\t  'is', 'are', 'was', 'were', 'be', 'been', 'being', 'have', 'has', \n",
    "\t\t\t  'had', 'having', 'do', 'does', 'did', 'doing', 'a', 'an', 'the', \n",
    "\t\t\t  'and', 'but', 'if', 'or', 'because', 'as', 'until', 'while', 'of', \n",
    "\t\t\t  'at', 'by', 'for', 'with', 'about', 'against', 'between', 'into', \n",
    "\t\t\t  'through', 'during', 'before', 'after', 'above', 'below', 'to', \n",
    "\t\t\t  'from', 'up', 'down', 'in', 'out', 'on', 'off', 'over', 'under', \n",
    "\t\t\t  'again', 'further', 'then', 'once', 'here', 'there', 'when', 'where', \n",
    "\t\t\t  'why', 'how', 'all', 'any', 'both', 'each', 'few', 'more', 'most', \n",
    "\t\t\t  'other', 'some', 'such', 'no', 'nor', 'only', 'own', 'same', \n",
    "\t\t\t  'so', 'than', 'too', 'very', 's', 't', 'can', 'will', 'just', 'don', \n",
    "\t\t\t  'should', 'should\\'ve', 'now', 'd', 'll', 'm', 'o', 're', \n",
    "\t\t\t  've', 'y', 'ain', 'aren', 'aren\\'t', 'couldn', 'couldn\\'t', 'didn', 'didn\\'t', \n",
    "\t\t\t  'doesn', 'doesn\\'t', 'hadn', 'hadn\\'t', 'hasn', 'hasn\\'t', 'haven', 'haven\\'t', \n",
    "\t\t\t  'isn', 'isn\\'t', 'ma', 'mightn', 'mightn\\'t', 'mustn', 'mustn\\'t', 'needn', \n",
    "\t\t\t  'needn\\'t', 'shan', 'shan\\'t', 'shouldn', 'shouldn\\'t', 'wasn', 'wasn\\'t', \n",
    "\t\t\t  'weren', 'weren\\'t', 'won', 'won\\'t', 'wouldn', 'wouldn\\'t', '....', '...', '..', 'i am'\n",
    "              , 'of', ]"
   ]
  },
  {
   "cell_type": "markdown",
   "metadata": {},
   "source": [
    "# Corpus"
   ]
  },
  {
   "cell_type": "code",
   "execution_count": 78,
   "metadata": {},
   "outputs": [],
   "source": [
    "doc1 = open(r\"corpus\\gdpr.txt\", \"r\")\n",
    "doc2 = open(r\"corpus\\10_amendments_usa.txt\", \"r\")\n",
    "doc3 = open(r\"corpus\\false_infos.txt\", \"r\")\n",
    "doc4 = open(r\"corpus\\contradiction.txt\", \"r\")\n",
    "\n",
    "corpus = [\n",
    "    doc1.read(),\n",
    "    doc2.read(),\n",
    "    doc3.read(),\n",
    "    doc4.read()\n",
    "]"
   ]
  },
  {
   "cell_type": "markdown",
   "metadata": {},
   "source": [
    "# NLP Pipeline"
   ]
  },
  {
   "cell_type": "code",
   "execution_count": 53,
   "metadata": {},
   "outputs": [],
   "source": [
    "def remove_punctuation(tweet):\n",
    "\treturn re.sub(r'[^\\w\\s]', \" \", tweet) \n",
    "\n",
    "def tokenize(text):\n",
    "\treturn text.strip().split(\" \")\n",
    "\n",
    "def lemming(tokens):\n",
    "    lemmatizer = WordNetLemmatizer()\n",
    "    return [lemmatizer.lemmatize(token) for token in tokens]\n",
    "\n",
    "def stemming(tokens):\n",
    "    p = PorterStemmer()\n",
    "    [p.stem(word) for word in tokens]\n",
    "    return tokens\n",
    "\n",
    "def remove_stopwords(words):\n",
    "    return [word.lower().replace('\\n', '') for word in words if word.lower().strip() and word.lower() not in stop_words]\n",
    "\n",
    "def nlp_pipeline(text):\n",
    "    return remove_stopwords(stemming(tokenize(remove_punctuation(text))))"
   ]
  },
  {
   "cell_type": "markdown",
   "metadata": {},
   "source": [
    "# Bag of Words Approach "
   ]
  },
  {
   "cell_type": "markdown",
   "metadata": {},
   "source": [
    "## Jaccard Similarity"
   ]
  },
  {
   "cell_type": "code",
   "execution_count": 54,
   "metadata": {},
   "outputs": [
    {
     "data": {
      "text/latex": [
       "$\\displaystyle \\text{JS}(A, B) = \\frac{\\vert A \\cap B \\vert}{\\vert A \\cup B \\vert} = \\frac{\\vert A \\cap B \\vert}{\\vert A \\vert + \\vert B \\vert - \\vert A \\cap B \\vert}$"
      ],
      "text/plain": [
       "<IPython.core.display.Math object>"
      ]
     },
     "metadata": {},
     "output_type": "display_data"
    }
   ],
   "source": [
    "display(Math(r'\\text{JS}(A, B) = \\frac{\\vert A \\cap B \\vert}{\\vert A \\cup B \\vert} = \\frac{\\vert A \\cap B \\vert}{\\vert A \\vert + \\vert B \\vert - \\vert A \\cap B \\vert}'))"
   ]
  },
  {
   "cell_type": "code",
   "execution_count": 55,
   "metadata": {},
   "outputs": [],
   "source": [
    "def jaccard_similarity(query, document):\n",
    "    intersection = set(query).intersection(set(document))\n",
    "    union = set(query).union(set(document))\n",
    "    return len(intersection)/len(union)"
   ]
  },
  {
   "cell_type": "markdown",
   "metadata": {},
   "source": [
    "## Sørensen-Dice Similarity "
   ]
  },
  {
   "cell_type": "code",
   "execution_count": 56,
   "metadata": {},
   "outputs": [
    {
     "data": {
      "text/latex": [
       "$\\displaystyle \\text{SD}(A, B) = \\frac{2 \\times \\vert A \\cap B \\vert}{\\vert A \\vert + \\vert B \\vert}$"
      ],
      "text/plain": [
       "<IPython.core.display.Math object>"
      ]
     },
     "metadata": {},
     "output_type": "display_data"
    }
   ],
   "source": [
    "display(Math(r'\\text{SD}(A, B) = \\frac{2 \\times \\vert A \\cap B \\vert}{\\vert A \\vert + \\vert B \\vert}'))"
   ]
  },
  {
   "cell_type": "code",
   "execution_count": 57,
   "metadata": {},
   "outputs": [],
   "source": [
    "def sorensen_dice_similarity(query, document):\n",
    "    intersection = set(query).intersection(set(document))\n",
    "    return 2*len(intersection)/(len(query) + len(document))"
   ]
  },
  {
   "cell_type": "markdown",
   "metadata": {},
   "source": [
    "## Wu-Palmer Similarity"
   ]
  },
  {
   "cell_type": "code",
   "execution_count": 58,
   "metadata": {},
   "outputs": [
    {
     "data": {
      "text/latex": [
       "$\\displaystyle \\text{WP}(A, B) = \\frac{2 \\times \\text{depth}(\\text{lcs}(A, B))}{\\text{depth}(A) + \\text{depth}(B)}$"
      ],
      "text/plain": [
       "<IPython.core.display.Math object>"
      ]
     },
     "metadata": {},
     "output_type": "display_data"
    }
   ],
   "source": [
    "display(Math(r'\\text{WP}(A, B) = \\frac{2 \\times \\text{depth}(\\text{lcs}(A, B))}{\\text{depth}(A) + \\text{depth}(B)}'))"
   ]
  },
  {
   "cell_type": "code",
   "execution_count": 59,
   "metadata": {},
   "outputs": [
    {
     "data": {
      "text/plain": [
       "0.8571428571428571"
      ]
     },
     "execution_count": 59,
     "metadata": {},
     "output_type": "execute_result"
    }
   ],
   "source": [
    "def wu_palmer_similarity(word1, word2):\n",
    "    w1 = wordnet.synsets(word1)\n",
    "    w2 = wordnet.synsets(word2)\n",
    "    if len(w1) == 0 or len(w2) == 0:\n",
    "        return 0\n",
    "    return wordnet.wup_similarity(w1[0], w2[0])\n",
    "\n",
    "wu_palmer_similarity(\"dog\", \"cat\")"
   ]
  },
  {
   "cell_type": "markdown",
   "metadata": {},
   "source": [
    "# Word Embeddings Approach"
   ]
  },
  {
   "cell_type": "markdown",
   "metadata": {},
   "source": [
    "## Cosine Similarity\n",
    "Using Open-AI word embeddings to calculate the cosine similarity between two words"
   ]
  },
  {
   "cell_type": "code",
   "execution_count": 60,
   "metadata": {},
   "outputs": [
    {
     "data": {
      "text/latex": [
       "$\\displaystyle \\text{CS}(A, B) = \\cos(\\theta) = \\frac{A \\cdot B}{\\|A\\| \\times \\|B\\|}$"
      ],
      "text/plain": [
       "<IPython.core.display.Math object>"
      ]
     },
     "metadata": {},
     "output_type": "display_data"
    }
   ],
   "source": [
    "display(Math(r'\\text{CS}(A, B) = \\cos(\\theta) = \\frac{A \\cdot B}{\\|A\\| \\times \\|B\\|}'))"
   ]
  },
  {
   "cell_type": "code",
   "execution_count": 61,
   "metadata": {},
   "outputs": [],
   "source": [
    "def get_embedding(text, model=\"text-embedding-3-small\"):\n",
    "   client = OpenAI()\n",
    "   return [client.embeddings.create(input = [text], model=model).data[0].embedding]"
   ]
  },
  {
   "cell_type": "code",
   "execution_count": 62,
   "metadata": {},
   "outputs": [
    {
     "name": "stdout",
     "output_type": "stream",
     "text": [
      "[[0.84310381]]\n"
     ]
    }
   ],
   "source": [
    "word1 = get_embedding(\"dog\")\n",
    "word2 = get_embedding(\"dogs\")\n",
    "print(cosine_similarity(word1, word2))"
   ]
  },
  {
   "cell_type": "markdown",
   "metadata": {},
   "source": [
    "# Getting Most Similar Document"
   ]
  },
  {
   "cell_type": "code",
   "execution_count": 79,
   "metadata": {},
   "outputs": [],
   "source": [
    "def get_most_likely_document_bag_of_words(query, corpus):\n",
    "    similarities = []\n",
    "    query = nlp_pipeline(query)\n",
    "    for doc in corpus:\n",
    "        document = nlp_pipeline(doc)\n",
    "        similarity = jaccard_similarity(query, document)\n",
    "        #similarity = sorensen_dice_similarity(query, doc)\n",
    "        print(similarity)\n",
    "        similarities.append(similarity)\n",
    "    return corpus[similarities.index(max(similarities))]"
   ]
  },
  {
   "cell_type": "code",
   "execution_count": 83,
   "metadata": {},
   "outputs": [],
   "source": [
    "def get_most_likely_document_word_embeddings(query, corpus):\n",
    "    similarities = []\n",
    "    query = get_embedding(query)\n",
    "    for doc in corpus:\n",
    "        document = get_embedding(doc)\n",
    "        similarity = cosine_similarity(query, document)\n",
    "        print(similarity)\n",
    "        similarities.append(similarity)\n",
    "    return corpus[similarities.index(max(similarities))]"
   ]
  },
  {
   "cell_type": "code",
   "execution_count": 65,
   "metadata": {},
   "outputs": [
    {
     "data": {
      "text/plain": [
       "'Processing personal data is generally prohibited, unless it is expressly allowed by law, or the data subject has consented to the \\nprocessing. While being one of the more well-known legal bases for processing personal data, consent is only one of six bases mentioned \\nin the General Data Protection Regulation (GDPR). The others are: contract, legal obligations, vital interests of the data subject, \\npublic interest and legitimate interest as stated in Article 6(1) GDPR.\\nThe basic requirements for the effectiveness of a valid legal consent are defined in Article 7 and specified further in recital 32 \\nof the GDPR. Consent must be freely given, specific, informed and unambiguous. In order to obtain freely given consent, it must be \\ngiven on a voluntary basis. The element free implies a real choice by the data subject. Any element of inappropriate pressure or \\ninfluence which could affect the outcome of that choice renders the consent invalid. In doing so, the legal text takes a certain \\nimbalance between the controller and the data subject into consideration. For example, in an employer-employee relationship: The employee\\nmay worry that his refusal to consent may have severe negative consequences on his employment relationship, thus consent can only \\nbe a lawful basis for processing in a few exceptional circumstances. In addition, a so-called coupling prohibition or \\nprohibition of coupling or tying applies. Thus, the performance of a contract may not be made dependent upon the consent to process \\nfurther personal data, which is not needed for the performance of that contract.\\nFor consent to be informed and specific, the data subject must at least be notified about the controller\\'s identity, what kind of \\ndata will be processed, how it will be used and the purpose of the processing operations as a safeguard against function creep. \\nThe data subject must also be informed about his or her right to withdraw consent anytime. The withdrawal must be as easy as giving \\nconsent. Where relevant, the controller also has to inform about the use of the data for automated decision-making, the possible \\nrisks of data transfers due to absence of an adequacy decision or other appropriate safeguards.\\nThe consent must be bound to one or several specified purposes which must then be sufficiently explained. If the consent should \\nlegitimise the processing of special categories of personal data, the information for the data subject must expressly refer to this.\\nThere must always be a clear distinction between the information needed for the informed consent and information about other \\ncontractual matters.\\nLast but not least, consent must be unambiguous, which means it requires either a statement or a clear affirmative act. \\nConsent cannot be implied and must always be given through an opt-in, a declaration or an active motion, so that there is \\nno misunderstanding that the data subject has consented to the particular processing. That being said, there is no \\nform requirement for consent, even if written consent is recommended due to the accountability of the controller. It can \\ntherefore also be given in electronic form. In this regard, consent of children and adolescents in relation to \\ninformation society services is a special case. For those who are under the age of 16, there is an additional consent \\nor authorisation requirement from the holder of parental responsibility. The age limit is subject to a flexibility clause. \\nMember States may provide for a lower age by national law, provided that such age is not below the age of 13 years. \\nWhen a service offering is explicitly not addressed to children, it is freed of this rule. However, this does not apply to offers \\nwhich are addressed to both children and adults.\\nAs one can see consent is not a silver bullet when it comes to the processing of personal data. Especially considering that \\nthe European data protection authorities have made it clear \"that if a controller chooses to rely on consent for any part of \\nthe processing, they must be prepared to respect that choice and stop that part of the processing if an individual withdraws consent. \\nStrictly interpreted, this means the controller is not allowed to switch from the legal basis consent to legitimate interest once \\nthe data subject withdraws his consent. This applies even if a valid legitimate interest existed initially. Therefore, consent \\nshould always be chosen as a last option for processing personal data.'"
      ]
     },
     "execution_count": 65,
     "metadata": {},
     "output_type": "execute_result"
    }
   ],
   "source": [
    "get_most_likely_document_bag_of_words(\"Can I store personal data for a forbidden purposes?\", corpus)"
   ]
  },
  {
   "cell_type": "code",
   "execution_count": 84,
   "metadata": {},
   "outputs": [
    {
     "name": "stdout",
     "output_type": "stream",
     "text": [
      "[[0.42150522]]\n",
      "[[0.11449044]]\n",
      "[[0.23644722]]\n",
      "[[0.25918341]]\n"
     ]
    },
    {
     "data": {
      "text/plain": [
       "'Processing personal data is generally prohibited, unless it is expressly allowed by law, or the data subject has consented to the \\nprocessing. While being one of the more well-known legal bases for processing personal data, consent is only one of six bases mentioned \\nin the General Data Protection Regulation (GDPR). The others are: contract, legal obligations, vital interests of the data subject, \\npublic interest and legitimate interest as stated in Article 6(1) GDPR.\\nThe basic requirements for the effectiveness of a valid legal consent are defined in Article 7 and specified further in recital 32 \\nof the GDPR. Consent must be freely given, specific, informed and unambiguous. In order to obtain freely given consent, it must be \\ngiven on a voluntary basis. The element free implies a real choice by the data subject. Any element of inappropriate pressure or \\ninfluence which could affect the outcome of that choice renders the consent invalid. In doing so, the legal text takes a certain \\nimbalance between the controller and the data subject into consideration. For example, in an employer-employee relationship: The employee\\nmay worry that his refusal to consent may have severe negative consequences on his employment relationship, thus consent can only \\nbe a lawful basis for processing in a few exceptional circumstances. In addition, a so-called coupling prohibition or \\nprohibition of coupling or tying applies. Thus, the performance of a contract may not be made dependent upon the consent to process \\nfurther personal data, which is not needed for the performance of that contract.\\nFor consent to be informed and specific, the data subject must at least be notified about the controller\\'s identity, what kind of \\ndata will be processed, how it will be used and the purpose of the processing operations as a safeguard against function creep. \\nThe data subject must also be informed about his or her right to withdraw consent anytime. The withdrawal must be as easy as giving \\nconsent. Where relevant, the controller also has to inform about the use of the data for automated decision-making, the possible \\nrisks of data transfers due to absence of an adequacy decision or other appropriate safeguards.\\nThe consent must be bound to one or several specified purposes which must then be sufficiently explained. If the consent should \\nlegitimise the processing of special categories of personal data, the information for the data subject must expressly refer to this.\\nThere must always be a clear distinction between the information needed for the informed consent and information about other \\ncontractual matters.\\nLast but not least, consent must be unambiguous, which means it requires either a statement or a clear affirmative act. \\nConsent cannot be implied and must always be given through an opt-in, a declaration or an active motion, so that there is \\nno misunderstanding that the data subject has consented to the particular processing. That being said, there is no \\nform requirement for consent, even if written consent is recommended due to the accountability of the controller. It can \\ntherefore also be given in electronic form. In this regard, consent of children and adolescents in relation to \\ninformation society services is a special case. For those who are under the age of 16, there is an additional consent \\nor authorisation requirement from the holder of parental responsibility. The age limit is subject to a flexibility clause. \\nMember States may provide for a lower age by national law, provided that such age is not below the age of 13 years. \\nWhen a service offering is explicitly not addressed to children, it is freed of this rule. However, this does not apply to offers \\nwhich are addressed to both children and adults.\\nAs one can see consent is not a silver bullet when it comes to the processing of personal data. Especially considering that \\nthe European data protection authorities have made it clear \"that if a controller chooses to rely on consent for any part of \\nthe processing, they must be prepared to respect that choice and stop that part of the processing if an individual withdraws consent. \\nStrictly interpreted, this means the controller is not allowed to switch from the legal basis consent to legitimate interest once \\nthe data subject withdraws his consent. This applies even if a valid legitimate interest existed initially. Therefore, consent \\nshould always be chosen as a last option for processing personal data.'"
      ]
     },
     "execution_count": 84,
     "metadata": {},
     "output_type": "execute_result"
    }
   ],
   "source": [
    "get_most_likely_document_word_embeddings(\"Can I store personal data for a forbidden purposes?\", corpus)"
   ]
  },
  {
   "cell_type": "markdown",
   "metadata": {},
   "source": [
    "# LLMs "
   ]
  },
  {
   "cell_type": "markdown",
   "metadata": {},
   "source": [
    "## LLAMA2"
   ]
  },
  {
   "cell_type": "code",
   "execution_count": 67,
   "metadata": {},
   "outputs": [],
   "source": [
    "def get_llama2_response(query, corpus):\n",
    "    #doc = get_most_likely_document_bag_of_words(query, corpus) \n",
    "    doc = get_most_likely_document_word_embeddings(query, corpus)\n",
    "    \n",
    "    prompt = \"\"\"\n",
    "                You are a bot that answer simple legal questions. \n",
    "                This is the info you have to use to answer: {relevant_document}\n",
    "                The user input is: {user_input}\n",
    "                Compile an answer to the user based on the relevant document.\n",
    "                Don't say that information I'm giving are wrong cause it's a simulation.\n",
    "                Answer in 15 words or less.\n",
    "             \"\"\"\n",
    "    \n",
    "    url = 'http://localhost:11434/api/generate'\n",
    "    \n",
    "    data = {\n",
    "        \"model\": \"llama2\",\n",
    "        \"prompt\": prompt.format(user_input=query, relevant_document=doc)\n",
    "    }\n",
    "    \n",
    "    headers = {'Content-Type': 'application/json'}\n",
    "    response = requests.post(url, data=json.dumps(data), headers=headers, stream=True)\n",
    "        \n",
    "    full_response = []\n",
    "    try:\n",
    "        for line in response.iter_lines():\n",
    "            if line:\n",
    "                decoded_line = json.loads(line.decode('utf-8')) \n",
    "                full_response.append(decoded_line['response'])\n",
    "    finally:\n",
    "        response.close()\n",
    "        \n",
    "    return ''.join(full_response)"
   ]
  },
  {
   "cell_type": "code",
   "execution_count": 68,
   "metadata": {},
   "outputs": [],
   "source": [
    "def get_llama2_response_virgin(query):\n",
    "    prompt = \"\"\"\n",
    "                You are a bot that answer simple legal questions. \n",
    "                The user input is: {user_input}\n",
    "                Answer in 15 words or less.\n",
    "             \"\"\"\n",
    "    \n",
    "    url = 'http://localhost:11434/api/generate'\n",
    "    \n",
    "    data = {\n",
    "        \"model\": \"llama2\",\n",
    "        \"prompt\": prompt.format(user_input=query)\n",
    "    }\n",
    "    \n",
    "    headers = {'Content-Type': 'application/json'}\n",
    "    response = requests.post(url, data=json.dumps(data), headers=headers, stream=True)\n",
    "        \n",
    "    full_response = []\n",
    "    try:\n",
    "        for line in response.iter_lines():\n",
    "            if line:\n",
    "                decoded_line = json.loads(line.decode('utf-8')) \n",
    "                full_response.append(decoded_line['response'])\n",
    "    finally:\n",
    "        response.close()\n",
    "        \n",
    "    return ''.join(full_response)"
   ]
  },
  {
   "cell_type": "markdown",
   "metadata": {},
   "source": [
    "## GPT-4-Turbo"
   ]
  },
  {
   "cell_type": "code",
   "execution_count": 69,
   "metadata": {},
   "outputs": [],
   "source": [
    "def get_gpt4_response(query, corpus):\n",
    "    #doc = get_most_likely_document_bag_of_words(query, corpus)\n",
    "    doc = get_most_likely_document_word_embeddings(query, corpus)\n",
    "    \n",
    "    client = OpenAI()\n",
    "    context = doc + \"\\n\" + f\"User Query: {query}\"  \n",
    "    response = client.chat.completions.create(\n",
    "        model=\"gpt-4-turbo\",\n",
    "        response_format={\"type\": \"json_object\"},\n",
    "        messages=[\n",
    "            {\"role\": \"system\", \"content\": \"\"\" \n",
    "                                                You are a bot that answers simple legal questions. \n",
    "                                                Compile an answer based only on the context i gave you.\n",
    "                                                Don't say that information I'm giving are wrong cause it's a simulation.\n",
    "                                                Answer in 15 words or less.\n",
    "                                                Your output should be a JSON.\"\"\"},\n",
    "            {\"role\": \"user\", \"content\": context} \n",
    "        ]\n",
    "    )\n",
    "    \n",
    "    return response.choices[0].message.content"
   ]
  },
  {
   "cell_type": "code",
   "execution_count": 70,
   "metadata": {},
   "outputs": [],
   "source": [
    "def get_gpt4_response_virgin(query):\n",
    "    client = OpenAI()\n",
    "    response = client.chat.completions.create(\n",
    "    model=\"gpt-4-turbo\",\n",
    "    response_format={ \"type\": \"json_object\" },\n",
    "    messages = [\n",
    "        {\"role\": \"system\", \"content\": \"\"\" \n",
    "                                            You are a bot that answer simple legal questions. \n",
    "                                            Compile an answer to the user based on the relevant document.\n",
    "                                            Answer in 15 words or less.\n",
    "                                            Your output should be a JSON.\"\"\"},\n",
    "        {\"role\": \"user\", \"content\": query}\n",
    "    ]\n",
    "    )\n",
    "\n",
    "    return response.choices[0].message.content"
   ]
  },
  {
   "cell_type": "markdown",
   "metadata": {},
   "source": [
    "## Testing LLAMA2"
   ]
  },
  {
   "cell_type": "markdown",
   "metadata": {},
   "source": [
    "### RAG"
   ]
  },
  {
   "cell_type": "code",
   "execution_count": 71,
   "metadata": {},
   "outputs": [
    {
     "name": "stdout",
     "output_type": "stream",
     "text": [
      "It is not legal for you to buy a gun in Virginia to protect yourself and your property without proper authorization. The Second Amendment allows citizens to keep and bear arms, but there are strict regulations and requirements that must be met before purchasing a firearm. Additionally, the federal government and individual states have enacted laws regarding the sale and ownership of firearms, which may vary depending on your location. It is important to familiarize yourself with these laws and regulations before attempting to purchase a gun. \n",
      "\n",
      "No, a website cannot obtain personal data of users without openly stating its intent and obtaining explicit consent. \n",
      "\n",
      " Sure, here is my answer:\n",
      "\n",
      "\"Dogs are prohibited in Virginia, according to federal law. Buying or selling dogs is illegal.\" \n",
      "\n",
      "Sorry, it is illegal for a European citizen to travel around Europe with their driving license. \n",
      "\n"
     ]
    }
   ],
   "source": [
    "print(get_llama2_response(\"I live in Virginia, i want to buy a gun to protect myself and my property. Is it legal according to US constitution?\", corpus), \"\\n\")\n",
    "print(get_llama2_response(\"Can a website obtain personal data of users who use it without openly saying that it is using and collecting their data?\", corpus), \"\\n\")\n",
    "print(get_llama2_response(\"Can I buy a dog in Virginia?\", corpus), \"\\n\")\n",
    "print(get_llama2_response(\"Can a European citizen travel around Europe with his driving license?\", corpus), \"\\n\")"
   ]
  },
  {
   "cell_type": "markdown",
   "metadata": {},
   "source": [
    "### Virgin LLM"
   ]
  },
  {
   "cell_type": "code",
   "execution_count": 72,
   "metadata": {},
   "outputs": [
    {
     "name": "stdout",
     "output_type": "stream",
     "text": [
      "I cannot provide legal advice or assist in illegal activities, including the purchase of firearms for unlawful purposes. It is important to follow all applicable laws and regulations when purchasing a gun, and it is recommended to consult with a licensed firearms dealer or legal professional for guidance. \n",
      "\n",
      "\n",
      "Yes, websites can collect personal data without explicitly disclosing it. However, they must comply with privacy laws and regulations regarding data collection and usage transparency. \n",
      "\n",
      "\n",
      "Yes, you can buy a dog in Virginia as long as you comply with state laws and regulations regarding pet ownership. \n",
      "\n",
      "\n",
      "Yes, a European citizen can travel around Europe with their driving license. Under the EU's driving license directive, a valid driving license issued by one EU country is valid in all other EU countries without the need for an international driving permit. \n",
      "\n"
     ]
    }
   ],
   "source": [
    "print(get_llama2_response_virgin(\"I live in Virginia, i want to buy a gun to protect myself and my property. Is it legal according to US constitution?\"), \"\\n\")\n",
    "print(get_llama2_response_virgin(\"Can a website obtain personal data of users who use it without openly saying that it is using and collecting their data?\"), \"\\n\")\n",
    "print(get_llama2_response_virgin(\"Can I buy a dog in Virginia?\"), \"\\n\")\n",
    "print(get_llama2_response_virgin(\"Can a European citizen travel around Europe with his driving license?\"), \"\\n\")"
   ]
  },
  {
   "cell_type": "markdown",
   "metadata": {},
   "source": [
    "## Testing GPT4"
   ]
  },
  {
   "cell_type": "markdown",
   "metadata": {},
   "source": [
    "### RAG"
   ]
  },
  {
   "cell_type": "code",
   "execution_count": 73,
   "metadata": {},
   "outputs": [
    {
     "name": "stdout",
     "output_type": "stream",
     "text": [
      "{\n",
      "  \"answer\": \"Yes, the Second Amendment supports your right to bear arms.\"\n",
      "} \n",
      "\n",
      "{\n",
      "  \"answer\": \"No, obtaining data without informing users violates GDPR's consent requirements.\"\n",
      "} \n",
      "\n",
      "{\n",
      "    \"answer\": \"No, dogs are banned throughout the USA, including Virginia.\"\n",
      "} \n",
      "\n",
      "{\"answer\": \"No, it is illegal to travel around Europe with just a driving license.\"} \n",
      "\n"
     ]
    }
   ],
   "source": [
    "print(get_gpt4_response(\"I live in Virginia, i want to buy a gun to protect myself and my property. Is it legal according to US constitution?\", corpus), \"\\n\")\n",
    "print(get_gpt4_response(\"Can a website obtain personal data of users who use it without openly saying that it is using and collecting their data?\", corpus), \"\\n\")\n",
    "print(get_gpt4_response(\"Can I buy a dog in Virginia?\", corpus), \"\\n\")\n",
    "print(get_gpt4_response(\"Can a European citizen travel around Europe with his driving license?\", corpus), \"\\n\")"
   ]
  },
  {
   "cell_type": "markdown",
   "metadata": {},
   "source": [
    "### Virgin LLM"
   ]
  },
  {
   "cell_type": "code",
   "execution_count": 74,
   "metadata": {},
   "outputs": [
    {
     "name": "stdout",
     "output_type": "stream",
     "text": [
      "{\n",
      "  \"answer\": \"Yes, the Second Amendment allows for individual firearm ownership for protection.\"\n",
      "} \n",
      "\n",
      "{\n",
      "  \"answer\": \"No, websites must inform users about data collection as per data protection laws.\"\n",
      "} \n",
      "\n",
      "{\n",
      "  \"response\": \"Yes, you can legally buy a dog in Virginia.\"\n",
      "} \n",
      "\n",
      "{\"answer\": \"No, driving licenses are not valid travel documents for border crossing in Europe.\"} \n",
      "\n"
     ]
    }
   ],
   "source": [
    "print(get_gpt4_response_virgin(\"I live in Virginia, i want to buy a gun to protect myself and my property. Is it legal according to US constitution?\"), \"\\n\")\n",
    "print(get_gpt4_response_virgin(\"Can a website obtain personal data of users who use it without openly saying that it is using and collecting their data?\"), \"\\n\")\n",
    "print(get_gpt4_response_virgin(\"Can I buy a dog in Virginia?\"), \"\\n\")\n",
    "print(get_gpt4_response_virgin(\"Can a European citizen travel around Europe with his driving license?\"), \"\\n\")"
   ]
  }
 ],
 "metadata": {
  "kernelspec": {
   "display_name": ".venv",
   "language": "python",
   "name": "python3"
  },
  "language_info": {
   "codemirror_mode": {
    "name": "ipython",
    "version": 3
   },
   "file_extension": ".py",
   "mimetype": "text/x-python",
   "name": "python",
   "nbconvert_exporter": "python",
   "pygments_lexer": "ipython3",
   "version": "3.10.4"
  }
 },
 "nbformat": 4,
 "nbformat_minor": 2
}
